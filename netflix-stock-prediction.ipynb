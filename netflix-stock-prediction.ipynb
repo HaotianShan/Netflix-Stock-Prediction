{
 "cells": [
  {
   "cell_type": "code",
   "execution_count": 1,
   "id": "4a1fb59e",
   "metadata": {
    "_cell_guid": "b1076dfc-b9ad-4769-8c92-a6c4dae69d19",
    "_uuid": "8f2839f25d086af736a60e9eeb907d3b93b6e0e5",
    "execution": {
     "iopub.execute_input": "2024-01-11T05:19:57.152250Z",
     "iopub.status.busy": "2024-01-11T05:19:57.151323Z",
     "iopub.status.idle": "2024-01-11T05:19:58.121069Z",
     "shell.execute_reply": "2024-01-11T05:19:58.119877Z"
    },
    "papermill": {
     "duration": 0.979247,
     "end_time": "2024-01-11T05:19:58.123627",
     "exception": false,
     "start_time": "2024-01-11T05:19:57.144380",
     "status": "completed"
    },
    "tags": []
   },
   "outputs": [
    {
     "name": "stdout",
     "output_type": "stream",
     "text": [
      "/kaggle/input/netflix-stock-price/NFLX.csv\n"
     ]
    }
   ],
   "source": [
    "# This Python 3 environment comes with many helpful analytics libraries installed\n",
    "# It is defined by the kaggle/python Docker image: https://github.com/kaggle/docker-python\n",
    "# For example, here's several helpful packages to load\n",
    "\n",
    "import numpy as np # linear algebra\n",
    "import pandas as pd # data processing, CSV file I/O (e.g. pd.read_csv)\n",
    "\n",
    "# Input data files are available in the read-only \"../input/\" directory\n",
    "# For example, running this (by clicking run or pressing Shift+Enter) will list all files under the input directory\n",
    "\n",
    "import os\n",
    "for dirname, _, filenames in os.walk('/kaggle/input'):\n",
    "    for filename in filenames:\n",
    "        print(os.path.join(dirname, filename))\n",
    "\n",
    "# You can write up to 20GB to the current directory (/kaggle/working/) that gets preserved as output when you create a version using \"Save & Run All\" \n",
    "# You can also write temporary files to /kaggle/temp/, but they won't be saved outside of the current session"
   ]
  },
  {
   "cell_type": "code",
   "execution_count": 2,
   "id": "b958c895",
   "metadata": {
    "execution": {
     "iopub.execute_input": "2024-01-11T05:19:58.135920Z",
     "iopub.status.busy": "2024-01-11T05:19:58.135027Z",
     "iopub.status.idle": "2024-01-11T05:19:58.170536Z",
     "shell.execute_reply": "2024-01-11T05:19:58.169654Z"
    },
    "papermill": {
     "duration": 0.044585,
     "end_time": "2024-01-11T05:19:58.173249",
     "exception": false,
     "start_time": "2024-01-11T05:19:58.128664",
     "status": "completed"
    },
    "tags": []
   },
   "outputs": [],
   "source": [
    "df = pd.read_csv('/kaggle/input/netflix-stock-price/NFLX.csv')"
   ]
  },
  {
   "cell_type": "code",
   "execution_count": 3,
   "id": "8f48aa94",
   "metadata": {
    "execution": {
     "iopub.execute_input": "2024-01-11T05:19:58.184997Z",
     "iopub.status.busy": "2024-01-11T05:19:58.183902Z",
     "iopub.status.idle": "2024-01-11T05:19:58.212515Z",
     "shell.execute_reply": "2024-01-11T05:19:58.211586Z"
    },
    "papermill": {
     "duration": 0.036948,
     "end_time": "2024-01-11T05:19:58.214951",
     "exception": false,
     "start_time": "2024-01-11T05:19:58.178003",
     "status": "completed"
    },
    "tags": []
   },
   "outputs": [
    {
     "data": {
      "text/plain": [
       "<bound method NDFrame.head of             Date        Open        High         Low       Close   Adj Close  \\\n",
       "0     2002-05-23    1.156429    1.242857    1.145714    1.196429    1.196429   \n",
       "1     2002-05-24    1.214286    1.225000    1.197143    1.210000    1.210000   \n",
       "2     2002-05-28    1.213571    1.232143    1.157143    1.157143    1.157143   \n",
       "3     2002-05-29    1.164286    1.164286    1.085714    1.103571    1.103571   \n",
       "4     2002-05-30    1.107857    1.107857    1.071429    1.071429    1.071429   \n",
       "...          ...         ...         ...         ...         ...         ...   \n",
       "5417  2023-11-29  479.000000  480.989990  474.489990  477.190002  477.190002   \n",
       "5418  2023-11-30  475.309998  478.589996  470.420013  473.970001  473.970001   \n",
       "5419  2023-12-01  473.170013  475.230011  464.600006  465.739990  465.739990   \n",
       "5420  2023-12-04  460.989990  461.200012  451.200012  453.899994  453.899994   \n",
       "5421  2023-12-05  450.700012  456.390015  449.579987  455.149994  455.149994   \n",
       "\n",
       "         Volume  \n",
       "0     104790000  \n",
       "1      11104800  \n",
       "2       6609400  \n",
       "3       6757800  \n",
       "4      10154200  \n",
       "...         ...  \n",
       "5417    2855500  \n",
       "5418    4287300  \n",
       "5419    4338100  \n",
       "5420    5157700  \n",
       "5421    3261100  \n",
       "\n",
       "[5422 rows x 7 columns]>"
      ]
     },
     "execution_count": 3,
     "metadata": {},
     "output_type": "execute_result"
    }
   ],
   "source": [
    "df.head"
   ]
  },
  {
   "cell_type": "code",
   "execution_count": 4,
   "id": "09068d38",
   "metadata": {
    "execution": {
     "iopub.execute_input": "2024-01-11T05:19:58.226760Z",
     "iopub.status.busy": "2024-01-11T05:19:58.226004Z",
     "iopub.status.idle": "2024-01-11T05:19:58.259637Z",
     "shell.execute_reply": "2024-01-11T05:19:58.258429Z"
    },
    "papermill": {
     "duration": 0.042369,
     "end_time": "2024-01-11T05:19:58.262068",
     "exception": false,
     "start_time": "2024-01-11T05:19:58.219699",
     "status": "completed"
    },
    "tags": []
   },
   "outputs": [
    {
     "name": "stdout",
     "output_type": "stream",
     "text": [
      "<class 'pandas.core.frame.DataFrame'>\n",
      "RangeIndex: 5422 entries, 0 to 5421\n",
      "Data columns (total 7 columns):\n",
      " #   Column     Non-Null Count  Dtype  \n",
      "---  ------     --------------  -----  \n",
      " 0   Date       5422 non-null   object \n",
      " 1   Open       5422 non-null   float64\n",
      " 2   High       5422 non-null   float64\n",
      " 3   Low        5422 non-null   float64\n",
      " 4   Close      5422 non-null   float64\n",
      " 5   Adj Close  5422 non-null   float64\n",
      " 6   Volume     5422 non-null   int64  \n",
      "dtypes: float64(5), int64(1), object(1)\n",
      "memory usage: 296.6+ KB\n"
     ]
    }
   ],
   "source": [
    "info_summary = df.info()"
   ]
  },
  {
   "cell_type": "code",
   "execution_count": 5,
   "id": "b8d8c33d",
   "metadata": {
    "execution": {
     "iopub.execute_input": "2024-01-11T05:19:58.274196Z",
     "iopub.status.busy": "2024-01-11T05:19:58.273425Z",
     "iopub.status.idle": "2024-01-11T05:19:58.633919Z",
     "shell.execute_reply": "2024-01-11T05:19:58.632811Z"
    },
    "papermill": {
     "duration": 0.369144,
     "end_time": "2024-01-11T05:19:58.636310",
     "exception": false,
     "start_time": "2024-01-11T05:19:58.267166",
     "status": "completed"
    },
    "tags": []
   },
   "outputs": [
    {
     "data": {
      "text/plain": [
       "<Axes: >"
      ]
     },
     "execution_count": 5,
     "metadata": {},
     "output_type": "execute_result"
    },
    {
     "data": {
      "image/png": "[encoded data removed]",
      "text/plain": [
       "<Figure size 640x480 with 1 Axes>"
      ]
     },
     "metadata": {},
     "output_type": "display_data"
    }
   ],
   "source": [
    "df['Volume'].hist()"
   ]
  },
  {
   "cell_type": "code",
   "execution_count": 6,
   "id": "48fa20cd",
   "metadata": {
    "execution": {
     "iopub.execute_input": "2024-01-11T05:19:58.649543Z",
     "iopub.status.busy": "2024-01-11T05:19:58.648473Z",
     "iopub.status.idle": "2024-01-11T05:19:58.956326Z",
     "shell.execute_reply": "2024-01-11T05:19:58.955153Z"
    },
    "papermill": {
     "duration": 0.317076,
     "end_time": "2024-01-11T05:19:58.958690",
     "exception": false,
     "start_time": "2024-01-11T05:19:58.641614",
     "status": "completed"
    },
    "tags": []
   },
   "outputs": [
    {
     "data": {
      "text/plain": [
       "<Axes: >"
      ]
     },
     "execution_count": 6,
     "metadata": {},
     "output_type": "execute_result"
    },
    {
     "data": {
      "image/png": "[encoded data removed]",
      "text/plain": [
       "<Figure size 640x480 with 1 Axes>"
      ]
     },
     "metadata": {},
     "output_type": "display_data"
    }
   ],
   "source": [
    "df['Close'].hist()"
   ]
  },
  {
   "cell_type": "code",
   "execution_count": 7,
   "id": "7f6b48f5",
   "metadata": {
    "execution": {
     "iopub.execute_input": "2024-01-11T05:19:58.972574Z",
     "iopub.status.busy": "2024-01-11T05:19:58.971957Z",
     "iopub.status.idle": "2024-01-11T05:19:58.980160Z",
     "shell.execute_reply": "2024-01-11T05:19:58.978894Z"
    },
    "papermill": {
     "duration": 0.017668,
     "end_time": "2024-01-11T05:19:58.982341",
     "exception": false,
     "start_time": "2024-01-11T05:19:58.964673",
     "status": "completed"
    },
    "tags": []
   },
   "outputs": [
    {
     "name": "stdout",
     "output_type": "stream",
     "text": [
      "Date         0\n",
      "Open         0\n",
      "High         0\n",
      "Low          0\n",
      "Close        0\n",
      "Adj Close    0\n",
      "Volume       0\n",
      "dtype: int64\n"
     ]
    }
   ],
   "source": [
    "null_values= df.isnull().sum()\n",
    "print(null_values)"
   ]
  },
  {
   "cell_type": "code",
   "execution_count": 8,
   "id": "53795c62",
   "metadata": {
    "execution": {
     "iopub.execute_input": "2024-01-11T05:19:58.995731Z",
     "iopub.status.busy": "2024-01-11T05:19:58.995359Z",
     "iopub.status.idle": "2024-01-11T05:19:59.009577Z",
     "shell.execute_reply": "2024-01-11T05:19:59.008597Z"
    },
    "papermill": {
     "duration": 0.02353,
     "end_time": "2024-01-11T05:19:59.011868",
     "exception": false,
     "start_time": "2024-01-11T05:19:58.988338",
     "status": "completed"
    },
    "tags": []
   },
   "outputs": [],
   "source": [
    "# Setting date column \n",
    "df['Date'] = pd.to_datetime(df['Date'])\n",
    "df.set_index('Date',inplace=True)"
   ]
  },
  {
   "cell_type": "code",
   "execution_count": 9,
   "id": "11473f42",
   "metadata": {
    "execution": {
     "iopub.execute_input": "2024-01-11T05:19:59.026116Z",
     "iopub.status.busy": "2024-01-11T05:19:59.025697Z",
     "iopub.status.idle": "2024-01-11T05:19:59.038186Z",
     "shell.execute_reply": "2024-01-11T05:19:59.037117Z"
    },
    "papermill": {
     "duration": 0.023844,
     "end_time": "2024-01-11T05:19:59.041800",
     "exception": false,
     "start_time": "2024-01-11T05:19:59.017956",
     "status": "completed"
    },
    "tags": []
   },
   "outputs": [
    {
     "name": "stdout",
     "output_type": "stream",
     "text": [
      "<class 'pandas.core.frame.DataFrame'>\n",
      "DatetimeIndex: 5422 entries, 2002-05-23 to 2023-12-05\n",
      "Data columns (total 6 columns):\n",
      " #   Column     Non-Null Count  Dtype  \n",
      "---  ------     --------------  -----  \n",
      " 0   Open       5422 non-null   float64\n",
      " 1   High       5422 non-null   float64\n",
      " 2   Low        5422 non-null   float64\n",
      " 3   Close      5422 non-null   float64\n",
      " 4   Adj Close  5422 non-null   float64\n",
      " 5   Volume     5422 non-null   int64  \n",
      "dtypes: float64(5), int64(1)\n",
      "memory usage: 296.5 KB\n"
     ]
    }
   ],
   "source": [
    "info_summary = df.info()"
   ]
  },
  {
   "cell_type": "code",
   "execution_count": 10,
   "id": "d431ce44",
   "metadata": {
    "execution": {
     "iopub.execute_input": "2024-01-11T05:19:59.055752Z",
     "iopub.status.busy": "2024-01-11T05:19:59.055371Z",
     "iopub.status.idle": "2024-01-11T05:19:59.062742Z",
     "shell.execute_reply": "2024-01-11T05:19:59.061743Z"
    },
    "papermill": {
     "duration": 0.017014,
     "end_time": "2024-01-11T05:19:59.065184",
     "exception": false,
     "start_time": "2024-01-11T05:19:59.048170",
     "status": "completed"
    },
    "tags": []
   },
   "outputs": [],
   "source": [
    "# adding day of the week as a feature for feature engineering\n",
    "df['DayofWeek'] = df.index.dayofweek"
   ]
  },
  {
   "cell_type": "code",
   "execution_count": 11,
   "id": "df258e41",
   "metadata": {
    "execution": {
     "iopub.execute_input": "2024-01-11T05:19:59.079014Z",
     "iopub.status.busy": "2024-01-11T05:19:59.078615Z",
     "iopub.status.idle": "2024-01-11T05:19:59.083472Z",
     "shell.execute_reply": "2024-01-11T05:19:59.082436Z"
    },
    "papermill": {
     "duration": 0.014432,
     "end_time": "2024-01-11T05:19:59.085740",
     "exception": false,
     "start_time": "2024-01-11T05:19:59.071308",
     "status": "completed"
    },
    "tags": []
   },
   "outputs": [],
   "source": [
    "#Train test split\n",
    "\n"
   ]
  }
 ],
 "metadata": {
  "kaggle": {
   "accelerator": "none",
   "dataSources": [
    {
     "datasetId": 4118922,
     "sourceId": 7137605,
     "sourceType": "datasetVersion"
    }
   ],
   "dockerImageVersionId": 30615,
   "isGpuEnabled": false,
   "isInternetEnabled": false,
   "language": "python",
   "sourceType": "notebook"
  },
  "kernelspec": {
   "display_name": "Python 3",
   "language": "python",
   "name": "python3"
  },
  "language_info": {
   "codemirror_mode": {
    "name": "ipython",
    "version": 3
   },
   "file_extension": ".py",
   "mimetype": "text/x-python",
   "name": "python",
   "nbconvert_exporter": "python",
   "pygments_lexer": "ipython3",
   "version": "3.10.12"
  },
  "papermill": {
   "default_parameters": {},
   "duration": 6.304297,
   "end_time": "2024-01-11T05:19:59.612073",
   "environment_variables": {},
   "exception": null,
   "input_path": "__notebook__.ipynb",
   "output_path": "__notebook__.ipynb",
   "parameters": {},
   "start_time": "2024-01-11T05:19:53.307776",
   "version": "2.4.0"
  }
 },
 "nbformat": 4,
 "nbformat_minor": 5
}
